{
 "cells": [
  {
   "cell_type": "markdown",
   "metadata": {},
   "source": [
    "This Jupyter Notebook implements an approximate adder"
   ]
  },
  {
   "cell_type": "code",
   "execution_count": 1,
   "metadata": {},
   "outputs": [],
   "source": [
    "import numpy as np\n",
    "c = [0, 0, 0, 0, 0, 0, 0, 0, 0]"
   ]
  },
  {
   "cell_type": "code",
   "execution_count": 2,
   "metadata": {},
   "outputs": [],
   "source": [
    "#Implementation of a full adder\n",
    "#The variable cut signifies where the addition of the bits should be cut,\n",
    "#e.g. a cut of two means that the two least signifianct bits won't be added, only the bits afterwards.\n",
    "#The addition of the bits before the cut will be randomly guessed.\n",
    "#For example if we add two bits with a width of four and a cut of 2, the absolute error would range from 0 to 5 = 2**0 + 2**1.\n",
    "def adder(a, b, ind, in_val, cut):\n",
    "    if(ind - cut != -1):\n",
    "        if(a[ind - cut] == 1 and b[ind - cut] == 1):\n",
    "            if(in_val == 0 and ind - cut != 0):\n",
    "                c[ind - cut + 1] = 0\n",
    "                adder(a, b, ind-1, in_val=1, cut = cut)\n",
    "            elif(in_val == 1 and ind - cut != 0):\n",
    "                c[ind - cut + 1] = 1\n",
    "                adder(a, b, ind-1, in_val=1, cut = cut)\n",
    "            elif(in_val == 0 and ind - cut == 0):\n",
    "                c[1] = 0\n",
    "                c[0] = 1\n",
    "            elif(in_val == 1 and ind - cut == 0):\n",
    "                c[1] = 1\n",
    "                c[0] = 1\n",
    "            \n",
    "        elif((a[ind - cut] == 1 and b[ind - cut] == 0) or (a[ind - cut] == 0 and b[ind - cut] == 1)):\n",
    "            if(in_val == 0 and ind - cut != 0):\n",
    "                c[ind - cut + 1] = 1\n",
    "                adder(a, b, ind-1, in_val=0, cut = cut)\n",
    "            elif(in_val == 1 and ind - cut != 0):\n",
    "                c[ind - cut + 1] = 0\n",
    "                adder(a, b, ind-1, in_val=1, cut = cut)\n",
    "            elif(in_val == 0 and ind - cut == 0):\n",
    "                c[1] = 1\n",
    "                c[0] = 0\n",
    "            elif(in_val == 1 and ind - cut == 0):\n",
    "                c[1] = 0\n",
    "                c[0] = 1\n",
    "    \n",
    "        elif(a[ind - cut] == 0 and b[ind - cut] == 0):\n",
    "            if(in_val == 0 and ind - cut != 0):\n",
    "                c[ind - cut + 1] = 0\n",
    "                adder(a, b, ind-1, in_val=0, cut = cut)\n",
    "            elif(in_val == 1 and ind - cut != 0):\n",
    "                c[ind - cut + 1] = 1\n",
    "                adder(a, b, ind-1, in_val=0, cut = cut)\n",
    "            elif(in_val == 0 and ind - cut == 0):\n",
    "                c[1] = 0\n",
    "                c[0] = 0\n",
    "            elif(in_val == 1 and ind - cut == 0):\n",
    "                c[1] = 1\n",
    "                c[0] = 0"
   ]
  },
  {
   "cell_type": "code",
   "execution_count": 3,
   "metadata": {},
   "outputs": [],
   "source": [
    "#This function performs accurate decimal addition\n",
    "def check_answer(a, b, c):\n",
    "    a_sum = 0\n",
    "    b_sum = 0\n",
    "    c_sum = 0\n",
    "    k = len(a)\n",
    "    \n",
    "    for i in a:\n",
    "        a_sum += i*2**(k-1)\n",
    "        k -= 1\n",
    "    \n",
    "    k = len(b)\n",
    "    for i in b:\n",
    "        b_sum += i*2**(k-1)\n",
    "        k -= 1\n",
    "\n",
    "    k = len(c)\n",
    "    for i in c:\n",
    "        c_sum += i*2**(k-1)\n",
    "        k -= 1\n",
    "    \n",
    "    d = np.abs(a_sum * b_sum - c_sum)\n",
    "    return d"
   ]
  },
  {
   "cell_type": "code",
   "execution_count": 4,
   "metadata": {},
   "outputs": [
    {
     "name": "stdout",
     "output_type": "stream",
     "text": [
      "For a cut of 0 we have that 0 times the random values of the least significant bits and the true value after addition didn't match. The MED is 0.0\n"
     ]
    }
   ],
   "source": [
    "er_sum = 0\n",
    "er = []\n",
    "run = 1000\n",
    "#Monte Carlo simulation for the MED calculation.\n",
    "#ER cannot be calculated since there is no carry.\n",
    "for i in range(run):\n",
    "    a = list(np.random.randint(2, size=8))\n",
    "    b = list(np.random.randint(2, size=8))\n",
    "    cut = 0\n",
    "    del c[len(c) - cut:]\n",
    "    c.extend(list(np.random.randint(2, size=cut))) #Randomize the bits before the cut of the sum of the addition\n",
    "    adder(a, b, ind = len(a) - 1, in_val = 0, cut = cut)\n",
    "    d = check_answer(a, b, c)\n",
    "    if(d != 0):\n",
    "        er_sum += 1\n",
    "        er.append(d)\n",
    "abs_err = (1/run)*sum(er)\n",
    "print(\"For a cut of {0} we have that {1} times the random values of the least significant bits and the true value after addition didn't match. The MED is {2}\".format(cut, er_sum, abs_err))"
   ]
  },
  {
   "cell_type": "code",
   "execution_count": 5,
   "metadata": {},
   "outputs": [
    {
     "name": "stdout",
     "output_type": "stream",
     "text": [
      "For a cut of 2 we have that 833 times the random values of the least significant bits and the true value after addition didn't match. The MED is 3.8200000000000003\n"
     ]
    }
   ],
   "source": [
    "er_sum = 0\n",
    "er = []\n",
    "run = 1000\n",
    "for i in range(run):\n",
    "    a = list(np.random.randint(2, size=8))\n",
    "    b = list(np.random.randint(2, size=8))\n",
    "    cut = 2\n",
    "    del c[len(c) - cut:]\n",
    "    c.extend(list(np.random.randint(2, size=cut)))\n",
    "    adder(a, b, ind = len(a) - 1, in_val = 0, cut = cut)\n",
    "    d = check_answer(a, b, c)\n",
    "    if(d != 0):\n",
    "        er_sum += 1\n",
    "        er.append(d)\n",
    "abs_err = (1/run)*sum(er)\n",
    "print(\"For a cut of {0} we have that {1} times the random values of the least significant bits and the true value after addition didn't match. The MED is {2}\".format(cut, er_sum, abs_err))"
   ]
  },
  {
   "cell_type": "code",
   "execution_count": 6,
   "metadata": {},
   "outputs": [
    {
     "name": "stdout",
     "output_type": "stream",
     "text": [
      "For a cut of 4 we have that 967 times the random values of the least significant bits and the true value after addition didn't match. The MED is 17.400000000000002\n"
     ]
    }
   ],
   "source": [
    "er_sum = 0\n",
    "er = []\n",
    "run = 1000\n",
    "for i in range(run):\n",
    "    a = list(np.random.randint(2, size=8))\n",
    "    b = list(np.random.randint(2, size=8))\n",
    "    cut = 4\n",
    "    del c[len(c) - cut:]\n",
    "    c.extend(list(np.random.randint(2, size=cut)))\n",
    "    adder(a, b, ind = len(a) - 1, in_val = 0, cut = cut)\n",
    "    d = check_answer(a, b, c)\n",
    "    if(d != 0):\n",
    "        er_sum += 1\n",
    "        er.append(d)\n",
    "abs_err = (1/run)*sum(er)\n",
    "print(\"For a cut of {0} we have that {1} times the random values of the least significant bits and the true value after addition didn't match. The MED is {2}\".format(cut, er_sum, abs_err))"
   ]
  },
  {
   "cell_type": "code",
   "execution_count": null,
   "metadata": {},
   "outputs": [],
   "source": []
  }
 ],
 "metadata": {
  "kernelspec": {
   "display_name": "Python 3",
   "language": "python",
   "name": "python3"
  },
  "language_info": {
   "codemirror_mode": {
    "name": "ipython",
    "version": 3
   },
   "file_extension": ".py",
   "mimetype": "text/x-python",
   "name": "python",
   "nbconvert_exporter": "python",
   "pygments_lexer": "ipython3",
   "version": "3.7.3"
  }
 },
 "nbformat": 4,
 "nbformat_minor": 4
}
