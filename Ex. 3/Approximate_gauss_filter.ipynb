{
 "cells": [
  {
   "cell_type": "markdown",
   "metadata": {},
   "source": [
    "# This Jupyter Notebook calculates an accurate and an approximate gauss filter"
   ]
  },
  {
   "cell_type": "code",
   "execution_count": 1,
   "metadata": {},
   "outputs": [],
   "source": [
    "from PIL import Image\n",
    "import statistics as st\n",
    "import random\n",
    "import numpy as np\n",
    "import time\n",
    "import cv2\n",
    "from PIL import Image\n",
    "from matplotlib.pyplot import imshow\n",
    "from skimage import metrics as ms\n",
    "\n",
    "%matplotlib inline"
   ]
  },
  {
   "cell_type": "code",
   "execution_count": 2,
   "metadata": {},
   "outputs": [],
   "source": [
    "def gauss(s, M, r):\n",
    "    \n",
    "    im = Image.open(s)\n",
    "    width = im.size[0]\n",
    "    height = im.size[1]\n",
    "    pix = im.load()\n",
    "    new_pix = []\n",
    "    sm_r = 0\n",
    "    sm_g = 0\n",
    "    sm_b = 0\n",
    "    g = []\n",
    "    \n",
    "    #Ignoring a border of 5 pixels\n",
    "    if r == \"accurate\":\n",
    "        for h in range(height-5):\n",
    "            for w in range(width-5):\n",
    "                for i in range(5):\n",
    "                    for k in range(5):\n",
    "                        b = tuple([q*M[i,k] for q in pix[w+k, h+i]])      #Multiply Matrix with tupel of rgb values\n",
    "                        sm_r += b[0]\n",
    "                        sm_g += b[1]\n",
    "                        sm_b += b[2]\n",
    "                new_pix.append(tuple([int(np.floor(sm_r/256)), int(np.floor(sm_g/256)), int(np.floor(sm_b/256))]))\n",
    "                sm_r = 0\n",
    "                sm_g = 0\n",
    "                sm_b = 0\n",
    "        \n",
    "        d = 0\n",
    "        for h in range(height-5):\n",
    "            for w in range(width-5):\n",
    "                pix[w+2, h+2] = new_pix[d]\n",
    "                d += 1\n",
    "        im.save('Eddy_noise_accurate_gauss.jpg')\n",
    "        \n",
    "    #Ignoring border\n",
    "    if r == \"approximate\":\n",
    "        hc = 0\n",
    "        for h in range(int((height-5)/3)-3):\n",
    "            wc = 0\n",
    "            for w in range(int((width-6)/3)):\n",
    "                for i in range(5):\n",
    "                    for k in range(5):\n",
    "                        b = tuple([q*M[i,k] for q in pix[wc+k, hc+i]])\n",
    "                        sm_r += b[0]\n",
    "                        sm_g += b[1]\n",
    "                        sm_b += b[2]\n",
    "                new_pix.append(tuple([int(np.floor(sm_r/256)), int(np.floor(sm_g/256)), int(np.floor(sm_b/256))]))\n",
    "                sm_r = 0\n",
    "                sm_g = 0\n",
    "                sm_b = 0\n",
    "                wc += 3\n",
    "            hc += 3\n",
    "            \n",
    "        d = 0\n",
    "        hc = 0\n",
    "        \n",
    "        #Give 3 pixels to the right and three pixels down the same value\n",
    "        #E.g. pix[0,0] = pix[0, 1] = pix[0, 3] = pix[1, 0] = ... = pix[3, 3] = new_pix[0]\n",
    "        for h in range(int((height-5)/3)-3):\n",
    "            wc = 0\n",
    "            for w in range(int((width-6)/3)):\n",
    "                pix[wc+2, hc+2] = new_pix[d]\n",
    "                pix[wc+3, hc+2] = new_pix[d]\n",
    "                pix[wc+4, hc+2] = new_pix[d]\n",
    "                \n",
    "                pix[wc+2, hc+3] = new_pix[d]\n",
    "                pix[wc+3, hc+3] = new_pix[d]\n",
    "                pix[wc+4, hc+3] = new_pix[d]\n",
    "                \n",
    "                pix[wc+2, hc+4] = new_pix[d]\n",
    "                pix[wc+3, hc+4] = new_pix[d]\n",
    "                pix[wc+4, hc+4] = new_pix[d]\n",
    "                d += 1\n",
    "                wc += 3\n",
    "            hc += 3\n",
    "        im.save('Eddy_noise_approximate_gauss.jpg')"
   ]
  },
  {
   "cell_type": "code",
   "execution_count": 3,
   "metadata": {},
   "outputs": [],
   "source": [
    "#Calculate the PSNR\n",
    "def calc_psnr(org, con):\n",
    "    img1 = cv2.imread(org)\n",
    "    img2 = cv2.imread(con)\n",
    "    psnr = cv2.PSNR(img1, img2)\n",
    "    \n",
    "    return psnr"
   ]
  },
  {
   "cell_type": "code",
   "execution_count": 4,
   "metadata": {},
   "outputs": [],
   "source": [
    "#Calculate SSIM\n",
    "def calc_ssim(org, con):\n",
    "    img1 = cv2.imread(org)\n",
    "    img2 = cv2.imread(con)\n",
    "    ssim = ms.structural_similarity(img1, img2, multichannel=True)\n",
    "    \n",
    "    return ssim"
   ]
  },
  {
   "cell_type": "code",
   "execution_count": 5,
   "metadata": {},
   "outputs": [
    {
     "name": "stdout",
     "output_type": "stream",
     "text": [
      "Time it took for accurate gauss filter: 364.73216247558594\n",
      "Time it took for approximate gauss filter: 32.64933753013611 \n",
      "\n",
      "PSNR for the accurate gauss filter: 23.074370246338745\n",
      "PSNR for the approximate gauss filter: 22.615157166741927 \n",
      "\n",
      "SSIM for the accurate gauss filter: 0.5361530390297052\n",
      "SSIM for the approximate gauss filter: 0.531503882071111 \n",
      "\n"
     ]
    }
   ],
   "source": [
    "M = np.matrix('1 4 6 4 1; 4 16 24 16 4; 6 24 36 24 6; 4 16 24 16 4; 1 4 6 4 1')\n",
    "s1 = time.time()\n",
    "gauss('Eddy_noise.bmp', M, 'accurate')\n",
    "e1 = time.time()\n",
    "\n",
    "s2 = time.time()\n",
    "gauss('Eddy_noise.bmp', M, 'approximate')\n",
    "e2 = time.time()\n",
    "\n",
    "print(\"Time it took for accurate gauss filter:\", e1-s1)\n",
    "print(\"Time it took for approximate gauss filter:\", e2-s2, \"\\n\")\n",
    "\n",
    "print(\"PSNR for the accurate gauss filter:\", calc_psnr('Eddy.bmp', 'Eddy_noise_accurate_gauss.jpg'))\n",
    "print(\"PSNR for the approximate gauss filter:\", calc_psnr('Eddy.bmp', 'Eddy_noise_approximate_gauss.jpg'), \"\\n\")\n",
    "\n",
    "print(\"SSIM for the accurate gauss filter:\", calc_ssim('Eddy.bmp', 'Eddy_noise_accurate_gauss.jpg'))\n",
    "print(\"SSIM for the approximate gauss filter:\", calc_ssim('Eddy.bmp', 'Eddy_noise_approximate_gauss.jpg'), \"\\n\")"
   ]
  },
  {
   "cell_type": "code",
   "execution_count": null,
   "metadata": {},
   "outputs": [],
   "source": []
  }
 ],
 "metadata": {
  "kernelspec": {
   "display_name": "Python 3",
   "language": "python",
   "name": "python3"
  },
  "language_info": {
   "codemirror_mode": {
    "name": "ipython",
    "version": 3
   },
   "file_extension": ".py",
   "mimetype": "text/x-python",
   "name": "python",
   "nbconvert_exporter": "python",
   "pygments_lexer": "ipython3",
   "version": "3.7.3"
  }
 },
 "nbformat": 4,
 "nbformat_minor": 4
}
