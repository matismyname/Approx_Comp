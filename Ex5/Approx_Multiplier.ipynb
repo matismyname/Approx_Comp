{
 "cells": [
  {
   "cell_type": "markdown",
   "metadata": {},
   "source": [
    "This Jupyter Notebook implements an approximate multiplier"
   ]
  },
  {
   "cell_type": "code",
   "execution_count": 426,
   "metadata": {},
   "outputs": [],
   "source": [
    "import numpy as np\n",
    "import copy\n",
    "z = []"
   ]
  },
  {
   "cell_type": "code",
   "execution_count": 427,
   "metadata": {},
   "outputs": [],
   "source": [
    "#Accurate adder but can be made to calculate approximately\n",
    "def adder(c, add_zeros, cut, l):\n",
    "    if(add_zeros == 0):\n",
    "        for i in (range(len(c))):\n",
    "            del c[i][len(c[i]) - cut:]\n",
    "    \n",
    "            \n",
    "    if(len(c) != 1):\n",
    "        in_val = 0\n",
    "        c[1] = list(np.zeros(add_zeros, dtype = int)) + c[1]\n",
    "    \n",
    "        for i in range(len(c[0]) - 1):\n",
    "            if(c[0][len(c[0]) - i - 1] == 1 and c[1][len(c[0]) - i - 1] == 1):\n",
    "                if(in_val == 0):\n",
    "                    z.insert(0,0)\n",
    "                else:\n",
    "                    z.insert(0,1)\n",
    "                in_val = 1\n",
    "            elif(c[0][len(c[0]) - i - 1] == 0 and c[1][len(c[0]) - i - 1] == 0):\n",
    "                if(in_val == 0):\n",
    "                    z.insert(0,0)\n",
    "                else:\n",
    "                    z.insert(0,1)\n",
    "                in_val = 0\n",
    "            else:\n",
    "                if(in_val == 0):\n",
    "                    z.insert(0,1)\n",
    "                    in_val = 0\n",
    "                else:\n",
    "                    z.insert(0,0)\n",
    "                    in_val = 1\n",
    "    \n",
    "\n",
    "        if(c[0][0] == 1 and c[1][0] == 1):\n",
    "            if(in_val == 0):\n",
    "                z.insert(0,0)\n",
    "                z.insert(0,1)\n",
    "            else:\n",
    "                z.insert(0,1)\n",
    "                z.insert(0,1)\n",
    "        elif(c[0][0] == 0 and c[1][0] == 0):\n",
    "            if(in_val == 0):\n",
    "                z.insert(0,0)\n",
    "                z.insert(0,0)\n",
    "            else:\n",
    "                z.insert(0,1)\n",
    "                z.insert(0,0)\n",
    "        else:\n",
    "            if(in_val == 0):\n",
    "                z.insert(0,1)\n",
    "                z.insert(0,0)\n",
    "            else:\n",
    "                z.insert(0,0)\n",
    "                z.insert(0,1)\n",
    "    \n",
    "        del c[0]\n",
    "        del c[0]\n",
    "        copy_z = list(z)\n",
    "        c.insert(0, copy_z)\n",
    "        z.clear()\n",
    "        adder(c, add_zeros = add_zeros + 1, cut = 0, l = l)\n",
    "    else:\n",
    "        while True and np.sum(c[0]) != 0:\n",
    "            if(c[0][0] == 0):\n",
    "                del c[0][0]\n",
    "            else:\n",
    "                break\n",
    "        if(l != 0):\n",
    "            c[0].extend(list(np.ones(l, dtype = int)))\n",
    "    return c"
   ]
  },
  {
   "cell_type": "code",
   "execution_count": 428,
   "metadata": {},
   "outputs": [],
   "source": [
    "#This function performs accurate decimal addition\n",
    "def check_answer(a, b, c):\n",
    "    a_sum = 0\n",
    "    b_sum = 0\n",
    "    c_sum = 0\n",
    "    \n",
    "    k = len(a)\n",
    "    for i in a:\n",
    "        a_sum += i*2**(k-1)\n",
    "        k -= 1\n",
    "    \n",
    "    k = len(b)\n",
    "    for i in b:\n",
    "        b_sum += i*2**(k-1)\n",
    "        k -= 1\n",
    "\n",
    "    k = len(c)\n",
    "    for i in c:\n",
    "        c_sum += i*2**(k-1)\n",
    "        k -= 1\n",
    "    \n",
    "    d = np.abs(a_sum * b_sum - c_sum)\n",
    "    return d"
   ]
  },
  {
   "cell_type": "code",
   "execution_count": 437,
   "metadata": {},
   "outputs": [],
   "source": [
    "#This function returns an accurate multiplication result\n",
    "def acc_mult(a):\n",
    "    a_sum = 0\n",
    "    k = len(a)\n",
    "    for i in a:\n",
    "        a_sum += i*2**(k-1)\n",
    "        k -= 1\n",
    "    return a_sum"
   ]
  },
  {
   "cell_type": "code",
   "execution_count": 461,
   "metadata": {},
   "outputs": [
    {
     "name": "stdout",
     "output_type": "stream",
     "text": [
      "For 80 randomly chosen bits and a cut of 3 and a bit width of 8, the MED is: 126.9\n",
      "For 80 randomly chosen bits and a cut of 3 and a bit width of 8, the ER is: 1.0\n"
     ]
    }
   ],
   "source": [
    "run = 100\n",
    "f = []\n",
    "cut = 3    #Cut has the same meaning as in the last exercise\n",
    "err = 0\n",
    "p = 0\n",
    "s = 8 #bit width\n",
    "for t in range(run):\n",
    "    a = list(np.random.randint(2, size=s))\n",
    "    b = list(np.random.randint(2, size=s))\n",
    "    for i in range(len(a)):\n",
    "        x = [b[len(b) - i - 1]*k for k in a]\n",
    "        x = list(np.zeros(len(b) - 1 - i, dtype = int)) + x + list(np.zeros(i, dtype = int))\n",
    "        f.append(x)\n",
    "    f1 = copy.deepcopy(f)\n",
    "    f2 = copy.deepcopy(f)\n",
    "    inacc_m = adder(f1, add_zeros = 0, cut = cut, l = cut)\n",
    "    acc_m = adder(f2, add_zeros = 0, cut = 0, l = 0)\n",
    "    \n",
    "    acc_prod = acc_mult(acc_m[0])\n",
    "    inacc_prod = acc_mult(inacc_m[0])\n",
    "    err += np.abs(acc_prod - inacc_prod)\n",
    "    \n",
    "    if(np.abs(acc_prod - inacc_prod) != 0):\n",
    "        p += 1\n",
    "    \n",
    "    f1.clear()\n",
    "    f2.clear()\n",
    "med = (1/run)*err\n",
    "er = (1/run)*p\n",
    "print(\"For {0} randomly chosen bits and a cut of {1} and a bit width of {2}, the MED is: {3}\".format(run, cut, s, med))\n",
    "print(\"For {0} randomly chosen bits and a cut of {1} and a bit width of {2}, the ER is: {3}\".format(run, cut, s, er))"
   ]
  },
  {
   "cell_type": "code",
   "execution_count": null,
   "metadata": {},
   "outputs": [],
   "source": []
  }
 ],
 "metadata": {
  "kernelspec": {
   "display_name": "Python 3",
   "language": "python",
   "name": "python3"
  },
  "language_info": {
   "codemirror_mode": {
    "name": "ipython",
    "version": 3
   },
   "file_extension": ".py",
   "mimetype": "text/x-python",
   "name": "python",
   "nbconvert_exporter": "python",
   "pygments_lexer": "ipython3",
   "version": "3.7.3"
  }
 },
 "nbformat": 4,
 "nbformat_minor": 4
}
